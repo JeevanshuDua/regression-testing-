{
 "cells": [
  {
   "cell_type": "code",
   "execution_count": 1,
   "metadata": {},
   "outputs": [],
   "source": [
    "import nltk\n",
    "import pandas as pd\n",
    "from time import process_time_ns \n",
    "import numpy as np\n",
    "from sklearn import preprocessing\n",
    "from sklearn.tree import DecisionTreeClassifier\n",
    "t1_start = process_time_ns()  \n"
   ]
  },
  {
   "cell_type": "code",
   "execution_count": 2,
   "metadata": {},
   "outputs": [],
   "source": [
    "ac = \" \"\n",
    "with open('ac.txt','r') as fin:\n",
    "    ac = (fin.read())"
   ]
  },
  {
   "cell_type": "code",
   "execution_count": 3,
   "metadata": {},
   "outputs": [
    {
     "data": {
      "text/plain": [
       "'Input data fields to enter - 1) Username 2) Password 3) Re-enter Password 4) Security question 5) Security answer\\nUsername data field specifications - At least one uppercase, \\nUsername data field specifications - At least one lowercase.\\nPassword data field specifications - At least 7 characters, \\nPassword data field specifications - 1 number, \\nPassword data field specifications - 1 uppercase letter, \\nPassword data field specifications - 1 lowercase letter, \\nPassword data field specifications - one special charactersss.\\nSecurity Answer data field specifications - at least 4 characters.\\nAll fields are required data fields - error alert should be shown if user clicks on Submit with any of the fields left blank \" cannot be empty\"\\nUser should be prompted if username entered already exists in the system.\\nUsername taken - please enter another username.\\nPassword criteria should be displayed to the user when user clicks inside the password data field.\\nGreen check mark next to \\'Password\\' data field should be displayed that indicates to the user after typing password that the entry meets criteria.\\nRed cross mark next to \\'Password\\' data field should be displayed that indicates to the user after typing password that the entry does not meet criteria.\\nValidate that inputs in \\'Password\\' and \\'Re-enter Password\\' data fields match- Green check mark next to \\'Re-enter\\' password data field should be displayed that indicates to the user after typing if passwords match\\n\\'Password\\' and \\'Re-enter Password\\' entries should be masked.\\nPassword entries will show the keystroke typed, and then after two seconds the entered character is masked.\\nIf \\'Password\\' entry does not match criteria specified and user hits Submit, show error alert \"Password entry does not meet criteria\".\\nIf entries in \\'Password\\' and \\'Re-enter Password\\' do not match and user hits Submit, show error alert \\'Password entries do not match\\'.\\n\\nAfter successful validation of all entered fields and on clicking Submit, show message indicating successful online account creation\\n'"
      ]
     },
     "execution_count": 3,
     "metadata": {},
     "output_type": "execute_result"
    }
   ],
   "source": [
    "ac"
   ]
  },
  {
   "cell_type": "code",
   "execution_count": 4,
   "metadata": {},
   "outputs": [
    {
     "name": "stdout",
     "output_type": "stream",
     "text": [
      "This is for the tokenizing the sentences :\n",
      "['Input data fields to enter - 1) Username 2) Password 3) Re-enter Password 4) Security question 5) Security answer\\nUsername data field specifications - At least one uppercase, \\nUsername data field specifications - At least one lowercase.', 'Password data field specifications - At least 7 characters, \\nPassword data field specifications - 1 number, \\nPassword data field specifications - 1 uppercase letter, \\nPassword data field specifications - 1 lowercase letter, \\nPassword data field specifications - one special charactersss.', 'Security Answer data field specifications - at least 4 characters.', 'All fields are required data fields - error alert should be shown if user clicks on Submit with any of the fields left blank \" cannot be empty\"\\nUser should be prompted if username entered already exists in the system.', 'Username taken - please enter another username.', 'Password criteria should be displayed to the user when user clicks inside the password data field.', \"Green check mark next to 'Password' data field should be displayed that indicates to the user after typing password that the entry meets criteria.\", \"Red cross mark next to 'Password' data field should be displayed that indicates to the user after typing password that the entry does not meet criteria.\", \"Validate that inputs in 'Password' and 'Re-enter Password' data fields match- Green check mark next to 'Re-enter' password data field should be displayed that indicates to the user after typing if passwords match\\n'Password' and 'Re-enter Password' entries should be masked.\", 'Password entries will show the keystroke typed, and then after two seconds the entered character is masked.', 'If \\'Password\\' entry does not match criteria specified and user hits Submit, show error alert \"Password entry does not meet criteria\".', \"If entries in 'Password' and 'Re-enter Password' do not match and user hits Submit, show error alert 'Password entries do not match'.\", 'After successful validation of all entered fields and on clicking Submit, show message indicating successful online account creation']\n"
     ]
    }
   ],
   "source": [
    "from nltk.tokenize import sent_tokenize, word_tokenize \n",
    "print('This is for the tokenizing the sentences :')\n",
    "print(sent_tokenize(ac)) \n",
    "sent_tokenized = sent_tokenize(ac)"
   ]
  },
  {
   "cell_type": "code",
   "execution_count": 5,
   "metadata": {},
   "outputs": [
    {
     "name": "stdout",
     "output_type": "stream",
     "text": [
      "This is for the tokenizing the words :\n"
     ]
    }
   ],
   "source": [
    "print('This is for the tokenizing the words :')\n",
    "tokenized_word = word_tokenize(ac)\n",
    "#print(word_tokenize(ac))"
   ]
  },
  {
   "cell_type": "code",
   "execution_count": 6,
   "metadata": {},
   "outputs": [
    {
     "name": "stdout",
     "output_type": "stream",
     "text": [
      "\n",
      "After stopwords removal :  ['Input', 'data', 'fields', 'enter', '-', '1', ')', 'Username', '2', ')', 'Password', '3', ')', 'Re-enter', 'Password', '4', ')', 'Security', 'question', '5', ')', 'Security', 'answer', 'Username', 'data', 'field', 'specifications', '-', 'At', 'least', 'one', 'uppercase', ',', 'Username', 'data', 'field', 'specifications', '-', 'At', 'least', 'one', 'lowercase', '.', 'Password', 'data', 'field', 'specifications', '-', 'At', 'least', '7', 'characters', ',', 'Password', 'data', 'field', 'specifications', '-', '1', 'number', ',', 'Password', 'data', 'field', 'specifications', '-', '1', 'uppercase', 'letter', ',', 'Password', 'data', 'field', 'specifications', '-', '1', 'lowercase', 'letter', ',', 'Password', 'data', 'field', 'specifications', '-', 'one', 'special', 'charactersss', '.', 'Security', 'Answer', 'data', 'field', 'specifications', '-', 'least', '4', 'characters', '.', 'All', 'fields', 'required', 'data', 'fields', '-', 'error', 'alert', 'shown', 'user', 'clicks', 'Submit', 'fields', 'left', 'blank', '``', 'empty', \"''\", 'User', 'prompted', 'username', 'entered', 'already', 'exists', 'system', '.', 'Username', 'taken', '-', 'please', 'enter', 'another', 'username', '.', 'Password', 'criteria', 'displayed', 'user', 'user', 'clicks', 'inside', 'password', 'data', 'field', '.', 'Green', 'check', 'mark', 'next', \"'Password\", \"'\", 'data', 'field', 'displayed', 'indicates', 'user', 'typing', 'password', 'entry', 'meets', 'criteria', '.', 'Red', 'cross', 'mark', 'next', \"'Password\", \"'\", 'data', 'field', 'displayed', 'indicates', 'user', 'typing', 'password', 'entry', 'meet', 'criteria', '.', 'Validate', 'inputs', \"'Password\", \"'\", \"'Re-enter\", 'Password', \"'\", 'data', 'fields', 'match-', 'Green', 'check', 'mark', 'next', \"'Re-enter\", \"'\", 'password', 'data', 'field', 'displayed', 'indicates', 'user', 'typing', 'passwords', 'match', \"'Password\", \"'\", \"'Re-enter\", 'Password', \"'\", 'entries', 'masked', '.', 'Password', 'entries', 'show', 'keystroke', 'typed', ',', 'two', 'seconds', 'entered', 'character', 'masked', '.', 'If', \"'Password\", \"'\", 'entry', 'match', 'criteria', 'specified', 'user', 'hits', 'Submit', ',', 'show', 'error', 'alert', '``', 'Password', 'entry', 'meet', 'criteria', \"''\", '.', 'If', 'entries', \"'Password\", \"'\", \"'Re-enter\", 'Password', \"'\", 'match', 'user', 'hits', 'Submit', ',', 'show', 'error', 'alert', \"'Password\", 'entries', 'match', \"'\", '.', 'After', 'successful', 'validation', 'entered', 'fields', 'clicking', 'Submit', ',', 'show', 'message', 'indicating', 'successful', 'online', 'account', 'creation']\n"
     ]
    }
   ],
   "source": [
    "#REOMOVING STOP WORDS FROM TOKENIZED WORDS\n",
    "from nltk.corpus import stopwords \n",
    "  \n",
    "# Using stopwords from English Languages \n",
    "english_stops = set(stopwords.words('english')) \n",
    "\n",
    "print (\"\\nAfter stopwords removal : \", \n",
    "       [word for word in tokenized_word if word not in english_stops]) "
   ]
  },
  {
   "cell_type": "code",
   "execution_count": 7,
   "metadata": {},
   "outputs": [
    {
     "data": {
      "text/plain": [
       "['Input data fields to enter - 1) Username 2) Password 3) Re-enter Password 4) Security question 5) Security answer\\nUsername data field specifications - At least one uppercase, \\nUsername data field specifications - At least one lowercase.',\n",
       " 'Password data field specifications - At least 7 characters, \\nPassword data field specifications - 1 number, \\nPassword data field specifications - 1 uppercase letter, \\nPassword data field specifications - 1 lowercase letter, \\nPassword data field specifications - one special charactersss.',\n",
       " 'Security Answer data field specifications - at least 4 characters.',\n",
       " 'All fields are required data fields - error alert should be shown if user clicks on Submit with any of the fields left blank \" cannot be empty\"\\nUser should be prompted if username entered already exists in the system.',\n",
       " 'Username taken - please enter another username.',\n",
       " 'Password criteria should be displayed to the user when user clicks inside the password data field.',\n",
       " \"Green check mark next to 'Password' data field should be displayed that indicates to the user after typing password that the entry meets criteria.\",\n",
       " \"Red cross mark next to 'Password' data field should be displayed that indicates to the user after typing password that the entry does not meet criteria.\",\n",
       " \"Validate that inputs in 'Password' and 'Re-enter Password' data fields match- Green check mark next to 'Re-enter' password data field should be displayed that indicates to the user after typing if passwords match\\n'Password' and 'Re-enter Password' entries should be masked.\",\n",
       " 'Password entries will show the keystroke typed, and then after two seconds the entered character is masked.',\n",
       " 'If \\'Password\\' entry does not match criteria specified and user hits Submit, show error alert \"Password entry does not meet criteria\".',\n",
       " \"If entries in 'Password' and 'Re-enter Password' do not match and user hits Submit, show error alert 'Password entries do not match'.\",\n",
       " 'After successful validation of all entered fields and on clicking Submit, show message indicating successful online account creation']"
      ]
     },
     "execution_count": 7,
     "metadata": {},
     "output_type": "execute_result"
    }
   ],
   "source": [
    "#REMOVING STOP WORDS FROM TOKENIZED SENTENCES\n",
    "from nltk.corpus import stopwords \n",
    "  \n",
    "# Using stopwords from English Languages \n",
    "english_stops = set(stopwords.words('english')) \n",
    "texts = \" \" \n",
    "texts = [word for word in sent_tokenized if word not in english_stops] \n",
    "texts\n"
   ]
  },
  {
   "cell_type": "code",
   "execution_count": 8,
   "metadata": {},
   "outputs": [
    {
     "data": {
      "text/plain": [
       "list"
      ]
     },
     "execution_count": 8,
     "metadata": {},
     "output_type": "execute_result"
    }
   ],
   "source": [
    "type(texts)"
   ]
  },
  {
   "cell_type": "code",
   "execution_count": 9,
   "metadata": {},
   "outputs": [
    {
     "data": {
      "text/plain": [
       "['Input data fields to enter - 1) Username 2) Password 3) Re-enter Password 4) Security question 5) Security answer\\nUsername data field specifications - At least one uppercase, \\nUsername data field specifications - At least one lowercase.',\n",
       " 'Password data field specifications - At least 7 characters, \\nPassword data field specifications - 1 number, \\nPassword data field specifications - 1 uppercase letter, \\nPassword data field specifications - 1 lowercase letter, \\nPassword data field specifications - one special charactersss.',\n",
       " 'Security Answer data field specifications - at least 4 characters.',\n",
       " 'All fields are required data fields - error alert should be shown if user clicks on Submit with any of the fields left blank \" cannot be empty\"\\nUser should be prompted if username entered already exists in the system.',\n",
       " 'Username taken - please enter another username.',\n",
       " 'Password criteria should be displayed to the user when user clicks inside the password data field.',\n",
       " \"Green check mark next to 'Password' data field should be displayed that indicates to the user after typing password that the entry meets criteria.\",\n",
       " \"Red cross mark next to 'Password' data field should be displayed that indicates to the user after typing password that the entry does not meet criteria.\",\n",
       " \"Validate that inputs in 'Password' and 'Re-enter Password' data fields match- Green check mark next to 'Re-enter' password data field should be displayed that indicates to the user after typing if passwords match\\n'Password' and 'Re-enter Password' entries should be masked.\",\n",
       " 'Password entries will show the keystroke typed, and then after two seconds the entered character is masked.',\n",
       " 'If \\'Password\\' entry does not match criteria specified and user hits Submit, show error alert \"Password entry does not meet criteria\".',\n",
       " \"If entries in 'Password' and 'Re-enter Password' do not match and user hits Submit, show error alert 'Password entries do not match'.\",\n",
       " 'After successful validation of all entered fields and on clicking Submit, show message indicating successful online account creation']"
      ]
     },
     "execution_count": 9,
     "metadata": {},
     "output_type": "execute_result"
    }
   ],
   "source": [
    "texts\n"
   ]
  },
  {
   "cell_type": "code",
   "execution_count": 10,
   "metadata": {},
   "outputs": [],
   "source": [
    "listwords = ['Password']"
   ]
  },
  {
   "cell_type": "code",
   "execution_count": 11,
   "metadata": {},
   "outputs": [
    {
     "name": "stdout",
     "output_type": "stream",
     "text": [
      "Input data fields to enter - 1) Username 2) Password 3) Re-enter Password 4) Security question 5) Security answer\n",
      "Username data field specifications - At least one uppercase, \n",
      "Username data field specifications - At least one lowercase.\n",
      "Password data field specifications - At least 7 characters, \n",
      "Password data field specifications - 1 number, \n",
      "Password data field specifications - 1 uppercase letter, \n",
      "Password data field specifications - 1 lowercase letter, \n",
      "Password data field specifications - one special charactersss.\n",
      "Password criteria should be displayed to the user when user clicks inside the password data field.\n",
      "Green check mark next to 'Password' data field should be displayed that indicates to the user after typing password that the entry meets criteria.\n",
      "Red cross mark next to 'Password' data field should be displayed that indicates to the user after typing password that the entry does not meet criteria.\n",
      "Validate that inputs in 'Password' and 'Re-enter Password' data fields match- Green check mark next to 'Re-enter' password data field should be displayed that indicates to the user after typing if passwords match\n",
      "'Password' and 'Re-enter Password' entries should be masked.\n",
      "Password entries will show the keystroke typed, and then after two seconds the entered character is masked.\n",
      "If 'Password' entry does not match criteria specified and user hits Submit, show error alert \"Password entry does not meet criteria\".\n",
      "If entries in 'Password' and 'Re-enter Password' do not match and user hits Submit, show error alert 'Password entries do not match'.\n"
     ]
    }
   ],
   "source": [
    "dic = {}\n",
    "key = 'password'\n",
    "for sentence in texts:\n",
    "    # iterate through each group of words\n",
    "    for words in listwords:\n",
    "        # check to see if each word group is in the current sentence\n",
    "        if all(word in sentence for word in words):\n",
    "            dic.setdefault(key, []).append(sentence)\n",
    "            print(sentence)\n",
    "            "
   ]
  },
  {
   "cell_type": "code",
   "execution_count": 12,
   "metadata": {},
   "outputs": [
    {
     "data": {
      "text/plain": [
       "{'password': ['Input data fields to enter - 1) Username 2) Password 3) Re-enter Password 4) Security question 5) Security answer\\nUsername data field specifications - At least one uppercase, \\nUsername data field specifications - At least one lowercase.',\n",
       "  'Password data field specifications - At least 7 characters, \\nPassword data field specifications - 1 number, \\nPassword data field specifications - 1 uppercase letter, \\nPassword data field specifications - 1 lowercase letter, \\nPassword data field specifications - one special charactersss.',\n",
       "  'Password criteria should be displayed to the user when user clicks inside the password data field.',\n",
       "  \"Green check mark next to 'Password' data field should be displayed that indicates to the user after typing password that the entry meets criteria.\",\n",
       "  \"Red cross mark next to 'Password' data field should be displayed that indicates to the user after typing password that the entry does not meet criteria.\",\n",
       "  \"Validate that inputs in 'Password' and 'Re-enter Password' data fields match- Green check mark next to 'Re-enter' password data field should be displayed that indicates to the user after typing if passwords match\\n'Password' and 'Re-enter Password' entries should be masked.\",\n",
       "  'Password entries will show the keystroke typed, and then after two seconds the entered character is masked.',\n",
       "  'If \\'Password\\' entry does not match criteria specified and user hits Submit, show error alert \"Password entry does not meet criteria\".',\n",
       "  \"If entries in 'Password' and 'Re-enter Password' do not match and user hits Submit, show error alert 'Password entries do not match'.\"]}"
      ]
     },
     "execution_count": 12,
     "metadata": {},
     "output_type": "execute_result"
    }
   ],
   "source": [
    "dic\n"
   ]
  },
  {
   "cell_type": "code",
   "execution_count": 14,
   "metadata": {},
   "outputs": [
    {
     "data": {
      "text/plain": [
       "['Input data fields to enter - 1) Username 2) Password 3) Re-enter Password 4) Security question 5) Security answer\\nUsername data field specifications - At least one uppercase, \\nUsername data field specifications - At least one lowercase.',\n",
       " 'Password data field specifications - At least 7 characters, \\nPassword data field specifications - 1 number, \\nPassword data field specifications - 1 uppercase letter, \\nPassword data field specifications - 1 lowercase letter, \\nPassword data field specifications - one special charactersss.',\n",
       " 'Security Answer data field specifications - at least 4 characters.',\n",
       " 'All fields are required data fields - error alert should be shown if user clicks on Submit with any of the fields left blank \" cannot be empty\"\\nUser should be prompted if username entered already exists in the system.',\n",
       " 'Username taken - please enter another username.',\n",
       " 'Password criteria should be displayed to the user when user clicks inside the password data field.',\n",
       " \"Green check mark next to 'Password' data field should be displayed that indicates to the user after typing password that the entry meets criteria.\",\n",
       " \"Red cross mark next to 'Password' data field should be displayed that indicates to the user after typing password that the entry does not meet criteria.\",\n",
       " \"Validate that inputs in 'Password' and 'Re-enter Password' data fields match- Green check mark next to 'Re-enter' password data field should be displayed that indicates to the user after typing if passwords match\\n'Password' and 'Re-enter Password' entries should be masked.\",\n",
       " 'Password entries will show the keystroke typed, and then after two seconds the entered character is masked.',\n",
       " 'If \\'Password\\' entry does not match criteria specified and user hits Submit, show error alert \"Password entry does not meet criteria\".',\n",
       " \"If entries in 'Password' and 'Re-enter Password' do not match and user hits Submit, show error alert 'Password entries do not match'.\",\n",
       " 'After successful validation of all entered fields and on clicking Submit, show message indicating successful online account creation']"
      ]
     },
     "execution_count": 14,
     "metadata": {},
     "output_type": "execute_result"
    }
   ],
   "source": [
    "texts"
   ]
  },
  {
   "cell_type": "code",
   "execution_count": 15,
   "metadata": {},
   "outputs": [],
   "source": [
    "listwords_ = ['Username']\n",
    "dic_ = {}\n",
    "\n",
    "key = 'Username'\n",
    "for sentence_ in texts:\n",
    "    # iterate through each group of words\n",
    "    for words_ in listwords_:\n",
    "        # check to see if each word group is in the current sentence\n",
    "        if all(word in sentence_ for word in words_):\n",
    "            dic_.setdefault(key, []).append(sentence_)\n",
    "          "
   ]
  },
  {
   "cell_type": "code",
   "execution_count": 16,
   "metadata": {},
   "outputs": [
    {
     "data": {
      "text/plain": [
       "{'Username': ['Input data fields to enter - 1) Username 2) Password 3) Re-enter Password 4) Security question 5) Security answer\\nUsername data field specifications - At least one uppercase, \\nUsername data field specifications - At least one lowercase.',\n",
       "  'All fields are required data fields - error alert should be shown if user clicks on Submit with any of the fields left blank \" cannot be empty\"\\nUser should be prompted if username entered already exists in the system.',\n",
       "  'Username taken - please enter another username.']}"
      ]
     },
     "execution_count": 16,
     "metadata": {},
     "output_type": "execute_result"
    }
   ],
   "source": [
    "dic_"
   ]
  },
  {
   "cell_type": "code",
   "execution_count": 35,
   "metadata": {},
   "outputs": [],
   "source": [
    "password_df = pd.DataFrame(dic).melt()\n",
    "username_df = pd.DataFrame(dic_).melt()\n"
   ]
  },
  {
   "cell_type": "code",
   "execution_count": 47,
   "metadata": {},
   "outputs": [
    {
     "data": {
      "text/html": [
       "<div>\n",
       "<style scoped>\n",
       "    .dataframe tbody tr th:only-of-type {\n",
       "        vertical-align: middle;\n",
       "    }\n",
       "\n",
       "    .dataframe tbody tr th {\n",
       "        vertical-align: top;\n",
       "    }\n",
       "\n",
       "    .dataframe thead th {\n",
       "        text-align: right;\n",
       "    }\n",
       "</style>\n",
       "<table border=\"1\" class=\"dataframe\">\n",
       "  <thead>\n",
       "    <tr style=\"text-align: right;\">\n",
       "      <th></th>\n",
       "      <th>variable</th>\n",
       "      <th>value</th>\n",
       "    </tr>\n",
       "  </thead>\n",
       "  <tbody>\n",
       "    <tr>\n",
       "      <th>0</th>\n",
       "      <td>password</td>\n",
       "      <td>Input data fields to enter - 1) Username 2) Pa...</td>\n",
       "    </tr>\n",
       "    <tr>\n",
       "      <th>1</th>\n",
       "      <td>password</td>\n",
       "      <td>Password data field specifications - At least ...</td>\n",
       "    </tr>\n",
       "    <tr>\n",
       "      <th>2</th>\n",
       "      <td>password</td>\n",
       "      <td>Password criteria should be displayed to the u...</td>\n",
       "    </tr>\n",
       "    <tr>\n",
       "      <th>3</th>\n",
       "      <td>password</td>\n",
       "      <td>Green check mark next to 'Password' data field...</td>\n",
       "    </tr>\n",
       "    <tr>\n",
       "      <th>4</th>\n",
       "      <td>password</td>\n",
       "      <td>Red cross mark next to 'Password' data field s...</td>\n",
       "    </tr>\n",
       "    <tr>\n",
       "      <th>5</th>\n",
       "      <td>password</td>\n",
       "      <td>Validate that inputs in 'Password' and 'Re-ent...</td>\n",
       "    </tr>\n",
       "    <tr>\n",
       "      <th>6</th>\n",
       "      <td>password</td>\n",
       "      <td>Password entries will show the keystroke typed...</td>\n",
       "    </tr>\n",
       "    <tr>\n",
       "      <th>7</th>\n",
       "      <td>password</td>\n",
       "      <td>If 'Password' entry does not match criteria sp...</td>\n",
       "    </tr>\n",
       "    <tr>\n",
       "      <th>8</th>\n",
       "      <td>password</td>\n",
       "      <td>If entries in 'Password' and 'Re-enter Passwor...</td>\n",
       "    </tr>\n",
       "  </tbody>\n",
       "</table>\n",
       "</div>"
      ],
      "text/plain": [
       "   variable                                              value\n",
       "0  password  Input data fields to enter - 1) Username 2) Pa...\n",
       "1  password  Password data field specifications - At least ...\n",
       "2  password  Password criteria should be displayed to the u...\n",
       "3  password  Green check mark next to 'Password' data field...\n",
       "4  password  Red cross mark next to 'Password' data field s...\n",
       "5  password  Validate that inputs in 'Password' and 'Re-ent...\n",
       "6  password  Password entries will show the keystroke typed...\n",
       "7  password  If 'Password' entry does not match criteria sp...\n",
       "8  password  If entries in 'Password' and 'Re-enter Passwor..."
      ]
     },
     "execution_count": 47,
     "metadata": {},
     "output_type": "execute_result"
    }
   ],
   "source": [
    "password_df"
   ]
  },
  {
   "cell_type": "code",
   "execution_count": 48,
   "metadata": {},
   "outputs": [
    {
     "data": {
      "text/html": [
       "<div>\n",
       "<style scoped>\n",
       "    .dataframe tbody tr th:only-of-type {\n",
       "        vertical-align: middle;\n",
       "    }\n",
       "\n",
       "    .dataframe tbody tr th {\n",
       "        vertical-align: top;\n",
       "    }\n",
       "\n",
       "    .dataframe thead th {\n",
       "        text-align: right;\n",
       "    }\n",
       "</style>\n",
       "<table border=\"1\" class=\"dataframe\">\n",
       "  <thead>\n",
       "    <tr style=\"text-align: right;\">\n",
       "      <th></th>\n",
       "      <th>variable</th>\n",
       "      <th>value</th>\n",
       "    </tr>\n",
       "  </thead>\n",
       "  <tbody>\n",
       "    <tr>\n",
       "      <th>0</th>\n",
       "      <td>Username</td>\n",
       "      <td>Input data fields to enter - 1) Username 2) Pa...</td>\n",
       "    </tr>\n",
       "    <tr>\n",
       "      <th>1</th>\n",
       "      <td>Username</td>\n",
       "      <td>All fields are required data fields - error al...</td>\n",
       "    </tr>\n",
       "    <tr>\n",
       "      <th>2</th>\n",
       "      <td>Username</td>\n",
       "      <td>Username taken - please enter another username.</td>\n",
       "    </tr>\n",
       "  </tbody>\n",
       "</table>\n",
       "</div>"
      ],
      "text/plain": [
       "   variable                                              value\n",
       "0  Username  Input data fields to enter - 1) Username 2) Pa...\n",
       "1  Username  All fields are required data fields - error al...\n",
       "2  Username    Username taken - please enter another username."
      ]
     },
     "execution_count": 48,
     "metadata": {},
     "output_type": "execute_result"
    }
   ],
   "source": [
    "username_df"
   ]
  },
  {
   "cell_type": "code",
   "execution_count": 69,
   "metadata": {},
   "outputs": [],
   "source": [
    "tests = pd.concat([password_df, username_df], ignore_index=True, sort=True)\n"
   ]
  },
  {
   "cell_type": "code",
   "execution_count": 70,
   "metadata": {},
   "outputs": [
    {
     "data": {
      "text/html": [
       "<div>\n",
       "<style scoped>\n",
       "    .dataframe tbody tr th:only-of-type {\n",
       "        vertical-align: middle;\n",
       "    }\n",
       "\n",
       "    .dataframe tbody tr th {\n",
       "        vertical-align: top;\n",
       "    }\n",
       "\n",
       "    .dataframe thead th {\n",
       "        text-align: right;\n",
       "    }\n",
       "</style>\n",
       "<table border=\"1\" class=\"dataframe\">\n",
       "  <thead>\n",
       "    <tr style=\"text-align: right;\">\n",
       "      <th></th>\n",
       "      <th>value</th>\n",
       "      <th>variable</th>\n",
       "    </tr>\n",
       "  </thead>\n",
       "  <tbody>\n",
       "    <tr>\n",
       "      <th>0</th>\n",
       "      <td>Input data fields to enter - 1) Username 2) Pa...</td>\n",
       "      <td>password</td>\n",
       "    </tr>\n",
       "    <tr>\n",
       "      <th>1</th>\n",
       "      <td>Password data field specifications - At least ...</td>\n",
       "      <td>password</td>\n",
       "    </tr>\n",
       "    <tr>\n",
       "      <th>2</th>\n",
       "      <td>Password criteria should be displayed to the u...</td>\n",
       "      <td>password</td>\n",
       "    </tr>\n",
       "    <tr>\n",
       "      <th>3</th>\n",
       "      <td>Green check mark next to 'Password' data field...</td>\n",
       "      <td>password</td>\n",
       "    </tr>\n",
       "    <tr>\n",
       "      <th>4</th>\n",
       "      <td>Red cross mark next to 'Password' data field s...</td>\n",
       "      <td>password</td>\n",
       "    </tr>\n",
       "    <tr>\n",
       "      <th>5</th>\n",
       "      <td>Validate that inputs in 'Password' and 'Re-ent...</td>\n",
       "      <td>password</td>\n",
       "    </tr>\n",
       "    <tr>\n",
       "      <th>6</th>\n",
       "      <td>Password entries will show the keystroke typed...</td>\n",
       "      <td>password</td>\n",
       "    </tr>\n",
       "    <tr>\n",
       "      <th>7</th>\n",
       "      <td>If 'Password' entry does not match criteria sp...</td>\n",
       "      <td>password</td>\n",
       "    </tr>\n",
       "    <tr>\n",
       "      <th>8</th>\n",
       "      <td>If entries in 'Password' and 'Re-enter Passwor...</td>\n",
       "      <td>password</td>\n",
       "    </tr>\n",
       "    <tr>\n",
       "      <th>9</th>\n",
       "      <td>Input data fields to enter - 1) Username 2) Pa...</td>\n",
       "      <td>Username</td>\n",
       "    </tr>\n",
       "    <tr>\n",
       "      <th>10</th>\n",
       "      <td>All fields are required data fields - error al...</td>\n",
       "      <td>Username</td>\n",
       "    </tr>\n",
       "    <tr>\n",
       "      <th>11</th>\n",
       "      <td>Username taken - please enter another username.</td>\n",
       "      <td>Username</td>\n",
       "    </tr>\n",
       "  </tbody>\n",
       "</table>\n",
       "</div>"
      ],
      "text/plain": [
       "                                                value  variable\n",
       "0   Input data fields to enter - 1) Username 2) Pa...  password\n",
       "1   Password data field specifications - At least ...  password\n",
       "2   Password criteria should be displayed to the u...  password\n",
       "3   Green check mark next to 'Password' data field...  password\n",
       "4   Red cross mark next to 'Password' data field s...  password\n",
       "5   Validate that inputs in 'Password' and 'Re-ent...  password\n",
       "6   Password entries will show the keystroke typed...  password\n",
       "7   If 'Password' entry does not match criteria sp...  password\n",
       "8   If entries in 'Password' and 'Re-enter Passwor...  password\n",
       "9   Input data fields to enter - 1) Username 2) Pa...  Username\n",
       "10  All fields are required data fields - error al...  Username\n",
       "11    Username taken - please enter another username.  Username"
      ]
     },
     "execution_count": 70,
     "metadata": {},
     "output_type": "execute_result"
    }
   ],
   "source": [
    "tests"
   ]
  },
  {
   "cell_type": "code",
   "execution_count": 73,
   "metadata": {},
   "outputs": [
    {
     "data": {
      "text/html": [
       "<div>\n",
       "<style scoped>\n",
       "    .dataframe tbody tr th:only-of-type {\n",
       "        vertical-align: middle;\n",
       "    }\n",
       "\n",
       "    .dataframe tbody tr th {\n",
       "        vertical-align: top;\n",
       "    }\n",
       "\n",
       "    .dataframe thead th {\n",
       "        text-align: right;\n",
       "    }\n",
       "</style>\n",
       "<table border=\"1\" class=\"dataframe\">\n",
       "  <thead>\n",
       "    <tr style=\"text-align: right;\">\n",
       "      <th></th>\n",
       "      <th>value</th>\n",
       "      <th>variable</th>\n",
       "    </tr>\n",
       "  </thead>\n",
       "  <tbody>\n",
       "    <tr>\n",
       "      <th>0</th>\n",
       "      <td>4</td>\n",
       "      <td>1</td>\n",
       "    </tr>\n",
       "    <tr>\n",
       "      <th>1</th>\n",
       "      <td>6</td>\n",
       "      <td>1</td>\n",
       "    </tr>\n",
       "    <tr>\n",
       "      <th>2</th>\n",
       "      <td>5</td>\n",
       "      <td>1</td>\n",
       "    </tr>\n",
       "    <tr>\n",
       "      <th>3</th>\n",
       "      <td>1</td>\n",
       "      <td>1</td>\n",
       "    </tr>\n",
       "    <tr>\n",
       "      <th>4</th>\n",
       "      <td>8</td>\n",
       "      <td>1</td>\n",
       "    </tr>\n",
       "    <tr>\n",
       "      <th>5</th>\n",
       "      <td>10</td>\n",
       "      <td>1</td>\n",
       "    </tr>\n",
       "    <tr>\n",
       "      <th>6</th>\n",
       "      <td>7</td>\n",
       "      <td>1</td>\n",
       "    </tr>\n",
       "    <tr>\n",
       "      <th>7</th>\n",
       "      <td>2</td>\n",
       "      <td>1</td>\n",
       "    </tr>\n",
       "    <tr>\n",
       "      <th>8</th>\n",
       "      <td>3</td>\n",
       "      <td>1</td>\n",
       "    </tr>\n",
       "    <tr>\n",
       "      <th>9</th>\n",
       "      <td>4</td>\n",
       "      <td>0</td>\n",
       "    </tr>\n",
       "    <tr>\n",
       "      <th>10</th>\n",
       "      <td>0</td>\n",
       "      <td>0</td>\n",
       "    </tr>\n",
       "    <tr>\n",
       "      <th>11</th>\n",
       "      <td>9</td>\n",
       "      <td>0</td>\n",
       "    </tr>\n",
       "  </tbody>\n",
       "</table>\n",
       "</div>"
      ],
      "text/plain": [
       "    value  variable\n",
       "0       4         1\n",
       "1       6         1\n",
       "2       5         1\n",
       "3       1         1\n",
       "4       8         1\n",
       "5      10         1\n",
       "6       7         1\n",
       "7       2         1\n",
       "8       3         1\n",
       "9       4         0\n",
       "10      0         0\n",
       "11      9         0"
      ]
     },
     "execution_count": 73,
     "metadata": {},
     "output_type": "execute_result"
    }
   ],
   "source": [
    "encoder = preprocessing.LabelEncoder()\n",
    "for i in tests.columns:\n",
    "    if isinstance(tests[i][0], str):\n",
    "        tests[i] = encoder.fit_transform(tests[i])\n",
    "tests"
   ]
  },
  {
   "cell_type": "code",
   "execution_count": 76,
   "metadata": {},
   "outputs": [],
   "source": [
    "x = tests.drop(['variable'], axis =1 ) \n",
    "y =tests.drop(['value'], axis = 1 )"
   ]
  },
  {
   "cell_type": "code",
   "execution_count": 77,
   "metadata": {},
   "outputs": [
    {
     "name": "stdout",
     "output_type": "stream",
     "text": [
      "The accuracy of the algorithm is : 0.9166666666666666\n"
     ]
    }
   ],
   "source": [
    "#Import Library\n",
    "#Import other necessary libraries like pandas, numpy...\n",
    "from sklearn import tree\n",
    "#Assumed you have, X (predictor) and Y (target) for training data set and x_test(predictor) of test_dataset\n",
    "# Create tree object \n",
    "model = tree.DecisionTreeClassifier() # for classification, here you can change the algorithm as gini or entropy (information gain) by default it is gini  \n",
    "# model = tree.DecisionTreeRegressor() for regression\n",
    "# Train the model using the training sets and check score\n",
    "model.fit(x, y)\n",
    "score  = model.score(x, y)\n",
    "print('The accuracy of the algorithm is :',score)"
   ]
  },
  {
   "cell_type": "code",
   "execution_count": null,
   "metadata": {},
   "outputs": [],
   "source": []
  }
 ],
 "metadata": {
  "kernelspec": {
   "display_name": "Python 3",
   "language": "python",
   "name": "python3"
  },
  "language_info": {
   "codemirror_mode": {
    "name": "ipython",
    "version": 3
   },
   "file_extension": ".py",
   "mimetype": "text/x-python",
   "name": "python",
   "nbconvert_exporter": "python",
   "pygments_lexer": "ipython3",
   "version": "3.8.3"
  },
  "latex_envs": {
   "LaTeX_envs_menu_present": true,
   "autoclose": false,
   "autocomplete": true,
   "bibliofile": "biblio.bib",
   "cite_by": "apalike",
   "current_citInitial": 1,
   "eqLabelWithNumbers": true,
   "eqNumInitial": 1,
   "hotkeys": {
    "equation": "Ctrl-E",
    "itemize": "Ctrl-I"
   },
   "labels_anchors": false,
   "latex_user_defs": false,
   "report_style_numbering": false,
   "user_envs_cfg": false
  }
 },
 "nbformat": 4,
 "nbformat_minor": 2
}
